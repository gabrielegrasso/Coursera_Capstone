{
 "cells": [
  {
   "cell_type": "markdown",
   "metadata": {},
   "source": [
    "# Assessing worldwide university performance"
   ]
  },
  {
   "cell_type": "markdown",
   "metadata": {},
   "source": [
    "## Introduction"
   ]
  },
  {
   "cell_type": "markdown",
   "metadata": {},
   "source": [
    "Ranking world universities is an often controversial endeavour. Various countries may have different views about education and the role of university in society and about the meaning of education itself. Furthermore, world rankings often mix institutions of non-comparable size and educational scope and use arbitrary parameters in order to obtain an overall performance score. Understanding how these rankings work and how their results can be interpreted is vital for any university who wants to gain more international visibility and attract funding from public and private institutions. This is also important for perspective students, who are faced with the important choice of a college. For this reason, this report will analyze one of the most popular rankings of universities: the Times Higher Education (THE) ranking (see also <https://www.timeshighereducation.com>). It will be shown, for instance, how the weight arbitrarily attributed to certain performance parameters can significantly change the ranking in favour of under-represented countries. Finally, a machine learning algorithm will be applied in order to cluster world universities into groups with similar characteristics. This will highlight the relationship between the various performance indicators that form the overall score."
   ]
  },
  {
   "cell_type": "markdown",
   "metadata": {},
   "source": [
    "## Reference data"
   ]
  },
  {
   "cell_type": "markdown",
   "metadata": {},
   "source": [
    "The database containing the THE ranking for several years is made available on Kaggle by Myles O'Neill at the address <https://www.kaggle.com/mylesoneill/world-university-rankings>. Each university is evaluated with marks ranging from 0 to 100 for the following performance indicators: teaching quality, international outlook, research (considering the sheer volume of papers produced and the reputation of said research), citations, industry income.\n",
    "The overall score $S$ is the weighted average of the previous parameters according to the following weighted sum:\n",
    "\n",
    "$S = 0.3*$teaching $+\\ 0.275*$international $+\\ 0.3*$research $+\\ 0.1 *$citations $+\\ 0.025 *$income\n",
    "\n",
    "Additional parameters available in the database are the number of students, the student-to-staff ratio, the percentage of international students and the female-to-male ratio."
   ]
  },
  {
   "cell_type": "code",
   "execution_count": null,
   "metadata": {},
   "outputs": [],
   "source": []
  }
 ],
 "metadata": {
  "kernelspec": {
   "display_name": "Python 3",
   "language": "python",
   "name": "python3"
  },
  "language_info": {
   "codemirror_mode": {
    "name": "ipython",
    "version": 3
   },
   "file_extension": ".py",
   "mimetype": "text/x-python",
   "name": "python",
   "nbconvert_exporter": "python",
   "pygments_lexer": "ipython3",
   "version": "3.7.3"
  }
 },
 "nbformat": 4,
 "nbformat_minor": 2
}
